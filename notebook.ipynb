{
  "cells": [
    {
      "attachments": {},
      "cell_type": "markdown",
      "metadata": {
        "id": "k04t1zXK3a2R"
      },
      "source": [
        "## Installation"
      ]
    },
    {
      "cell_type": "code",
      "execution_count": null,
      "metadata": {
        "id": "OjsNFEJd6Ptz"
      },
      "outputs": [],
      "source": [
        "! pip install transformers Pillow torch scipy matplotlib torchvision datasets diffusers accelerate vector_quantize_pytorch pytube moviepy"
      ]
    },
    {
      "attachments": {},
      "cell_type": "markdown",
      "metadata": {
        "id": "hs74qYbx3poC"
      },
      "source": [
        "## Dependency"
      ]
    },
    {
      "cell_type": "code",
      "execution_count": 4,
      "metadata": {
        "id": "UANBLLa86YkF"
      },
      "outputs": [],
      "source": [
        "from datasets import Audio, Dataset, load_dataset\n",
        "import torch\n",
        "from diffusers import StableDiffusionPipeline, EulerDiscreteScheduler"
      ]
    },
    {
      "attachments": {},
      "cell_type": "markdown",
      "metadata": {
        "id": "SKchNpRv3hSS"
      },
      "source": [
        "## Image loading through GitHub link"
      ]
    },
    {
      "cell_type": "code",
      "execution_count": null,
      "metadata": {
        "id": "eHkQxPCY9lkE"
      },
      "outputs": [],
      "source": [
        "import io\n",
        "import urllib\n",
        "import requests\n",
        "\n",
        "import PIL.Image\n",
        "from datasets.utils.file_utils import get_datasets_user_agent\n",
        "import matplotlib.pyplot as plt\n",
        "\n",
        "import tempfile\n",
        "import torchvision\n",
        "\n",
        "buffer = tempfile.SpooledTemporaryFile(max_size=1e9)\n",
        "r = requests.get(\"https://raw.githubusercontent.com/juliagsy/immute/main/images/test_0.png\", stream=True)\n",
        "if r.status_code == 200:\n",
        "    downloaded = 0\n",
        "    filesize = int(r.headers['content-length'])\n",
        "    for chunk in r.iter_content(chunk_size=1024):\n",
        "        downloaded += len(chunk)\n",
        "        buffer.write(chunk)\n",
        "        # print(downloaded/filesize)\n",
        "    buffer.seek(0)\n",
        "    i = PIL.Image.open(io.BytesIO(buffer.read()))\n",
        "    i = torchvision.transforms.functional.pil_to_tensor(i)\n",
        "    i = i.permute((1, 2, 0))\n",
        "\n",
        "\n",
        "plt.imshow(i)\n",
        "plt.show()\n"
      ]
    }
  ],
  "metadata": {
    "accelerator": "GPU",
    "colab": {
      "gpuType": "T4",
      "provenance": []
    },
    "kernelspec": {
      "display_name": "Python 3",
      "name": "python3"
    },
    "language_info": {
      "name": "python"
    }
  },
  "nbformat": 4,
  "nbformat_minor": 0
}
